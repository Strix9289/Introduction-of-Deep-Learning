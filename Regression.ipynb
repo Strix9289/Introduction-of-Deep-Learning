{
  "nbformat": 4,
  "nbformat_minor": 0,
  "metadata": {
    "colab": {
      "name": "Regression.ipynb",
      "provenance": []
    },
    "kernelspec": {
      "name": "python3",
      "display_name": "Python 3"
    }
  },
  "cells": [
    {
      "cell_type": "markdown",
      "metadata": {
        "id": "DdeTK6zGZPj1",
        "colab_type": "text"
      },
      "source": [
        "# Kerasでボストンの家賃を推測する回帰モデルを作る\n",
        "\n",
        "1. データの準備\n",
        "2. モデルの構築\n",
        "3. 学習\n",
        "4. 評価\n",
        "\n",
        "今回は、連続の実数値を予測するモデルということで回帰モデルとなります。\n",
        "\n",
        "簡単に回帰モデルについて説明すると、データをうまく表現してくれる線を見つけることです。\n",
        "\n",
        "\n",
        "![regstration.jpg](data:image/jpeg;base64,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)"
      ]
    },
    {
      "cell_type": "markdown",
      "metadata": {
        "id": "I3LaA64cZRbT",
        "colab_type": "text"
      },
      "source": [
        "# データの準備\n",
        "\n",
        "kerasのdatasetsには事前にボストン近郊の家賃を目的変数とする13個の変数を持つデータセットが用意されています。今回は、これを使って分類問題を解くモデルを構築し、深層学習の基本を見ていきましょう。"
      ]
    },
    {
      "cell_type": "code",
      "metadata": {
        "id": "whKfo8OrZT-j",
        "colab_type": "code",
        "colab": {}
      },
      "source": [
        "import numpy as np\n",
        "import pandas as pd\n",
        "import matplotlib.pyplot as plt\n",
        "import tensorflow.keras as keras\n",
        "import tensorflow as tf\n",
        "from tensorflow.keras.datasets import boston_housing"
      ],
      "execution_count": 14,
      "outputs": []
    },
    {
      "cell_type": "code",
      "metadata": {
        "id": "4kk4AiBYZWvM",
        "colab_type": "code",
        "colab": {
          "base_uri": "https://localhost:8080/",
          "height": 53
        },
        "outputId": "da6a3a70-1b92-4e8e-d657-6346c83c1f07"
      },
      "source": [
        "# データセットの準備\n",
        "(x_train, y_train), (x_test, y_test) = boston_housing.load_data(test_split=0.2)"
      ],
      "execution_count": 8,
      "outputs": [
        {
          "output_type": "stream",
          "text": [
            "Downloading data from https://storage.googleapis.com/tensorflow/tf-keras-datasets/boston_housing.npz\n",
            "57344/57026 [==============================] - 0s 0us/step\n"
          ],
          "name": "stdout"
        }
      ]
    },
    {
      "cell_type": "markdown",
      "metadata": {
        "id": "YOKTVDn7Z5n_",
        "colab_type": "text"
      },
      "source": [
        "データセットの中身を見てみましょう\n",
        "\n",
        "|  変数  |  説明  |\n",
        "| :----: | ---- |\n",
        "|  CRIM  |  人口 1 人当たりの犯罪発生数  |\n",
        "|  ZN  |  25,000 平方フィート以上の住居区画の占める割合  |\n",
        "|  INDUS  | 小売業以外の商業が占める面積の割合 |\n",
        "|  CHAS  |  チャールズ川によるダミー変数 (1: 川の周辺, 0: それ以外)  |\n",
        "|  NOX  |  NOx の濃度  |\n",
        "|  RM  |  住居の平均部屋数  |\n",
        "|  AGE  |  1940 年より前に建てられた物件の割合  |\n",
        "| DIS\t|5 つのボストン市の雇用施設からの距離 (重み付け済)|\n",
        "| RAD\t| 環状高速道路へのアクセスしやすさ|\n",
        "|TAX|\t$10,000 ドルあたりの不動産税率の総計|\n",
        "|PTRATIO|\t町毎の児童と教師の比率|\n",
        "|B|\t町毎の黒人 (Bk) の比率を次の式で表したもの。|\n",
        "|LSTAT|\t給与の低い職業に従事する人口の割合 (%)|"
      ]
    },
    {
      "cell_type": "markdown",
      "metadata": {
        "id": "jvHzN6cdZ7ZU",
        "colab_type": "text"
      },
      "source": [
        "今回は、訓練データして404個、テスト用データとして102個のというようにデータを8:2の割合で分割しました。\n",
        "\n",
        "また、深層学習では大量のデータを利用することが多いので、32bit形式にすることでメモリの使用率を抑えることができます。"
      ]
    },
    {
      "cell_type": "code",
      "metadata": {
        "id": "EcYexF17Z-JQ",
        "colab_type": "code",
        "colab": {
          "base_uri": "https://localhost:8080/",
          "height": 35
        },
        "outputId": "bdb2e69e-c77c-44c6-9348-31fc168c7192"
      },
      "source": [
        "print(x_train.shape, y_train.shape, x_test.shape, y_test.shape )"
      ],
      "execution_count": 9,
      "outputs": [
        {
          "output_type": "stream",
          "text": [
            "(404, 13) (404,) (102, 13) (102,)\n"
          ],
          "name": "stdout"
        }
      ]
    },
    {
      "cell_type": "code",
      "metadata": {
        "id": "dDMDVlICZ-5Q",
        "colab_type": "code",
        "colab": {}
      },
      "source": [
        "x_train = np.array(x_train, np.float32)\n",
        "y_train = np.array(y_train, np.float32)\n",
        "x_test = np.array(x_test, np.float32)\n",
        "y_test = np.array(y_test, np.float32)"
      ],
      "execution_count": 12,
      "outputs": []
    },
    {
      "cell_type": "markdown",
      "metadata": {
        "id": "9WzpqRfFZ8yr",
        "colab_type": "text"
      },
      "source": [
        "深層学習を勉強するうえで、結果が全く同じになるようにするためにランダムシードを固定しておきます。マイクラのシードと同じですね。"
      ]
    },
    {
      "cell_type": "code",
      "metadata": {
        "id": "6YRSLGvmZZJa",
        "colab_type": "code",
        "colab": {}
      },
      "source": [
        "import os, random\n",
        "\n",
        "def reset_seed(seed=0):\n",
        "    os.environ['PYTHONHASHSEED'] = '0'\n",
        "    random.seed(seed)\n",
        "    np.random.seed(seed)\n",
        "    tf.random.set_seed(seed)\n",
        "#シードの固定\n",
        "reset_seed()"
      ],
      "execution_count": 15,
      "outputs": []
    },
    {
      "cell_type": "markdown",
      "metadata": {
        "id": "CU1RaQpIbdlJ",
        "colab_type": "text"
      },
      "source": [
        "#  モデルの構築"
      ]
    },
    {
      "cell_type": "markdown",
      "metadata": {
        "id": "wZn8DOIRbc1d",
        "colab_type": "text"
      },
      "source": [
        "kerasには、簡単にモデルを構築できるSequential API,複雑なモデルを構築できるFunctional API, Subclassing APIがあります。\n",
        "\n",
        "今回は、層を直列につないで構築するSequential APIを利用します。"
      ]
    },
    {
      "cell_type": "code",
      "metadata": {
        "id": "zC3Z4Boza7eS",
        "colab_type": "code",
        "colab": {}
      },
      "source": [
        "from tensorflow.keras.models import Sequential\n",
        "from tensorflow.keras.layers import Dense\n",
        "\n",
        "# モデルの定義\n",
        "model = Sequential([\n",
        "    Dense(64, activation='relu', input_shape=(13, )),\n",
        "    Dense(1),\n",
        "])\n",
        "\n",
        "# モデルのコンパイル\n",
        "model.compile(optimizer='adam', \n",
        "              loss='mse',\n",
        "              metrics=['mae'])"
      ],
      "execution_count": 16,
      "outputs": []
    },
    {
      "cell_type": "markdown",
      "metadata": {
        "id": "QGrBYofhblWV",
        "colab_type": "text"
      },
      "source": [
        "詳細は省きますが、簡単にモデルの説明します。\n",
        "\n",
        "第一層で13次元のから64次元に変えて、その後家賃の値段を出すために1次元にしています。\n",
        "\n",
        "最適化手法としてadam、損失関数としてMSE、評価関数としてMAEとしています。\n",
        "\n",
        "$$MSE = \\frac{1}{N}\\sum_{n=1}^{N}(t_n-y_n)^2$$\n",
        "$$MAE = \\frac{1}{N}\\sum_{n=1}^{N}|t_n-y_n|^2$$\n",
        "\n",
        "$y$：予測値、$t$：実際の値"
      ]
    },
    {
      "cell_type": "code",
      "metadata": {
        "id": "Nq_dbLcJbnXJ",
        "colab_type": "code",
        "colab": {
          "base_uri": "https://localhost:8080/",
          "height": 233
        },
        "outputId": "959066ab-3ae8-4025-98c5-fe7b8388c808"
      },
      "source": [
        "# モデル構造の確認\n",
        "model.summary()"
      ],
      "execution_count": 17,
      "outputs": [
        {
          "output_type": "stream",
          "text": [
            "Model: \"sequential\"\n",
            "_________________________________________________________________\n",
            "Layer (type)                 Output Shape              Param #   \n",
            "=================================================================\n",
            "dense (Dense)                (None, 64)                896       \n",
            "_________________________________________________________________\n",
            "dense_1 (Dense)              (None, 1)                 65        \n",
            "=================================================================\n",
            "Total params: 961\n",
            "Trainable params: 961\n",
            "Non-trainable params: 0\n",
            "_________________________________________________________________\n"
          ],
          "name": "stdout"
        }
      ]
    },
    {
      "cell_type": "code",
      "metadata": {
        "id": "A-vpcmRmbn3I",
        "colab_type": "code",
        "colab": {
          "base_uri": "https://localhost:8080/",
          "height": 272
        },
        "outputId": "a8c581a8-8e43-42a8-ad31-67ce45020844"
      },
      "source": [
        "# モデル構造の可視化\n",
        "tf.keras.utils.plot_model(model)"
      ],
      "execution_count": 18,
      "outputs": [
        {
          "output_type": "execute_result",
          "data": {
            "image/png": "[encoded data removed]",
            "text/plain": [
              "<IPython.core.display.Image object>"
            ]
          },
          "metadata": {
            "tags": []
          },
          "execution_count": 18
        }
      ]
    },
    {
      "cell_type": "code",
      "metadata": {
        "id": "1UekLwxpbqNF",
        "colab_type": "code",
        "colab": {
          "base_uri": "https://localhost:8080/",
          "height": 1000
        },
        "outputId": "0e294f49-e349-4e0b-968d-32d61cac35f8"
      },
      "source": [
        "# モデルの学習\n",
        "history = model.fit(x_train, y_train, \n",
        "                    epochs=30,\n",
        "                    batch_size=32,\n",
        "                    validation_data=(x_test, y_test))"
      ],
      "execution_count": 20,
      "outputs": [
        {
          "output_type": "stream",
          "text": [
            "Epoch 1/30\n",
            "13/13 [==============================] - 0s 11ms/step - loss: 3237.5100 - mae: 48.8926 - val_loss: 662.2463 - val_mae: 20.9535\n",
            "Epoch 2/30\n",
            "13/13 [==============================] - 0s 3ms/step - loss: 789.1500 - mae: 21.7804 - val_loss: 605.0310 - val_mae: 20.3200\n",
            "Epoch 3/30\n",
            "13/13 [==============================] - 0s 2ms/step - loss: 354.9813 - mae: 14.4209 - val_loss: 193.6239 - val_mae: 9.8974\n",
            "Epoch 4/30\n",
            "13/13 [==============================] - 0s 2ms/step - loss: 200.9194 - mae: 9.1846 - val_loss: 106.7682 - val_mae: 8.2395\n",
            "Epoch 5/30\n",
            "13/13 [==============================] - 0s 2ms/step - loss: 144.6363 - mae: 9.5849 - val_loss: 91.6657 - val_mae: 7.8329\n",
            "Epoch 6/30\n",
            "13/13 [==============================] - 0s 2ms/step - loss: 116.4246 - mae: 8.0673 - val_loss: 78.4924 - val_mae: 6.7829\n",
            "Epoch 7/30\n",
            "13/13 [==============================] - 0s 2ms/step - loss: 99.1373 - mae: 7.4275 - val_loss: 72.2787 - val_mae: 6.7247\n",
            "Epoch 8/30\n",
            "13/13 [==============================] - 0s 2ms/step - loss: 88.1605 - mae: 7.2352 - val_loss: 67.1004 - val_mae: 6.1629\n",
            "Epoch 9/30\n",
            "13/13 [==============================] - 0s 3ms/step - loss: 82.4809 - mae: 6.3536 - val_loss: 65.6039 - val_mae: 6.2545\n",
            "Epoch 10/30\n",
            "13/13 [==============================] - 0s 2ms/step - loss: 75.7635 - mae: 6.6855 - val_loss: 62.1165 - val_mae: 6.0395\n",
            "Epoch 11/30\n",
            "13/13 [==============================] - 0s 3ms/step - loss: 70.7886 - mae: 6.1242 - val_loss: 60.4767 - val_mae: 5.8723\n",
            "Epoch 12/30\n",
            "13/13 [==============================] - 0s 3ms/step - loss: 67.7642 - mae: 5.9213 - val_loss: 60.0309 - val_mae: 5.9648\n",
            "Epoch 13/30\n",
            "13/13 [==============================] - 0s 2ms/step - loss: 65.3559 - mae: 5.9922 - val_loss: 58.4014 - val_mae: 5.7730\n",
            "Epoch 14/30\n",
            "13/13 [==============================] - 0s 2ms/step - loss: 64.4860 - mae: 5.5679 - val_loss: 58.9042 - val_mae: 5.9387\n",
            "Epoch 15/30\n",
            "13/13 [==============================] - 0s 2ms/step - loss: 61.6295 - mae: 5.8333 - val_loss: 57.2960 - val_mae: 5.4812\n",
            "Epoch 16/30\n",
            "13/13 [==============================] - 0s 2ms/step - loss: 59.5549 - mae: 5.4478 - val_loss: 56.4081 - val_mae: 5.5982\n",
            "Epoch 17/30\n",
            "13/13 [==============================] - 0s 4ms/step - loss: 58.5382 - mae: 5.3919 - val_loss: 55.8674 - val_mae: 5.5753\n",
            "Epoch 18/30\n",
            "13/13 [==============================] - 0s 2ms/step - loss: 57.1220 - mae: 5.6102 - val_loss: 55.2058 - val_mae: 5.3863\n",
            "Epoch 19/30\n",
            "13/13 [==============================] - 0s 2ms/step - loss: 56.2160 - mae: 5.1136 - val_loss: 56.1108 - val_mae: 5.7144\n",
            "Epoch 20/30\n",
            "13/13 [==============================] - 0s 2ms/step - loss: 55.6474 - mae: 5.5689 - val_loss: 55.2689 - val_mae: 5.2865\n",
            "Epoch 21/30\n",
            "13/13 [==============================] - 0s 2ms/step - loss: 54.1646 - mae: 5.1388 - val_loss: 54.7254 - val_mae: 5.5831\n",
            "Epoch 22/30\n",
            "13/13 [==============================] - 0s 2ms/step - loss: 53.0128 - mae: 5.1861 - val_loss: 53.3900 - val_mae: 5.3502\n",
            "Epoch 23/30\n",
            "13/13 [==============================] - 0s 2ms/step - loss: 51.8524 - mae: 5.0532 - val_loss: 53.4062 - val_mae: 5.4056\n",
            "Epoch 24/30\n",
            "13/13 [==============================] - 0s 3ms/step - loss: 51.4513 - mae: 5.0917 - val_loss: 52.7887 - val_mae: 5.2154\n",
            "Epoch 25/30\n",
            "13/13 [==============================] - 0s 2ms/step - loss: 50.1825 - mae: 4.9942 - val_loss: 52.5850 - val_mae: 5.3475\n",
            "Epoch 26/30\n",
            "13/13 [==============================] - 0s 3ms/step - loss: 50.0148 - mae: 5.0083 - val_loss: 51.6171 - val_mae: 5.2785\n",
            "Epoch 27/30\n",
            "13/13 [==============================] - 0s 3ms/step - loss: 49.8326 - mae: 4.9829 - val_loss: 51.3066 - val_mae: 5.3332\n",
            "Epoch 28/30\n",
            "13/13 [==============================] - 0s 2ms/step - loss: 48.3710 - mae: 4.9564 - val_loss: 50.4349 - val_mae: 5.1223\n",
            "Epoch 29/30\n",
            "13/13 [==============================] - 0s 2ms/step - loss: 48.0651 - mae: 4.6447 - val_loss: 51.8523 - val_mae: 5.4607\n",
            "Epoch 30/30\n",
            "13/13 [==============================] - 0s 3ms/step - loss: 48.5284 - mae: 5.0911 - val_loss: 49.8269 - val_mae: 4.8794\n"
          ],
          "name": "stdout"
        }
      ]
    },
    {
      "cell_type": "code",
      "metadata": {
        "id": "aH-x2wKibsW6",
        "colab_type": "code",
        "colab": {
          "base_uri": "https://localhost:8080/",
          "height": 53
        },
        "outputId": "4c49ea53-638e-4da8-8e01-8af654da561c"
      },
      "source": [
        "# 学習済みモデルの評価\n",
        "score = model.evaluate(x_test, y_test, verbose=0)\n",
        "print(\"Test loss:\\t\", score[0])\n",
        "print(\"Test MAE:\\t\", score[1])"
      ],
      "execution_count": 21,
      "outputs": [
        {
          "output_type": "stream",
          "text": [
            "Test loss:\t 49.8268928527832\n",
            "Test MAE:\t 4.879434108734131\n"
          ],
          "name": "stdout"
        }
      ]
    },
    {
      "cell_type": "code",
      "metadata": {
        "id": "EcnWvjtab0Kz",
        "colab_type": "code",
        "colab": {
          "base_uri": "https://localhost:8080/",
          "height": 265
        },
        "outputId": "5cdebbde-9f46-4620-9e7e-6a2f3a312325"
      },
      "source": [
        "# 結果の可視化\n",
        "result = pd.DataFrame(history.history)\n",
        "\n",
        "# 目的関数の可視化\n",
        "result[['loss', 'val_loss']].plot();"
      ],
      "execution_count": 22,
      "outputs": [
        {
          "output_type": "display_data",
          "data": {
            "image/png": "[encoded data removed]",
            "text/plain": [
              "<Figure size 432x288 with 1 Axes>"
            ]
          },
          "metadata": {
            "tags": [],
            "needs_background": "light"
          }
        }
      ]
    },
    {
      "cell_type": "code",
      "metadata": {
        "id": "aLej3qCQb2Sn",
        "colab_type": "code",
        "colab": {
          "base_uri": "https://localhost:8080/",
          "height": 265
        },
        "outputId": "b5b758e7-7a16-43c3-f54c-d38776bd5a3e"
      },
      "source": [
        "# 評価指標の可視化\n",
        "result[['mae', 'val_mae']].plot();"
      ],
      "execution_count": 23,
      "outputs": [
        {
          "output_type": "display_data",
          "data": {
            "image/png": "[encoded data removed]",
            "text/plain": [
              "<Figure size 432x288 with 1 Axes>"
            ]
          },
          "metadata": {
            "tags": [],
            "needs_background": "light"
          }
        }
      ]
    },
    {
      "cell_type": "code",
      "metadata": {
        "id": "CTokAhXLb4JC",
        "colab_type": "code",
        "colab": {}
      },
      "source": [
        ""
      ],
      "execution_count": null,
      "outputs": []
    }
  ]
}