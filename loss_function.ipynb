{
  "nbformat": 4,
  "nbformat_minor": 0,
  "metadata": {
    "colab": {
      "name": "loss_function.ipynb",
      "provenance": [],
      "authorship_tag": "ABX9TyPvXxFgeCjF/IpIGWkrQl5L",
      "include_colab_link": true
    },
    "kernelspec": {
      "name": "python3",
      "display_name": "Python 3"
    }
  },
  "cells": [
    {
      "cell_type": "markdown",
      "metadata": {
        "id": "view-in-github",
        "colab_type": "text"
      },
      "source": [
        "<a href=\"https://colab.research.google.com/github/Strix9289/Introduction-of-Deep-Learning/blob/master/loss_function.ipynb\" target=\"_parent\"><img src=\"https://colab.research.google.com/assets/colab-badge.svg\" alt=\"Open In Colab\"/></a>"
      ]
    },
    {
      "cell_type": "markdown",
      "metadata": {
        "id": "sE-jVjao5l50",
        "colab_type": "text"
      },
      "source": [
        "#損失関数"
      ]
    },
    {
      "cell_type": "markdown",
      "metadata": {
        "id": "WnVr43IM7QKx",
        "colab_type": "text"
      },
      "source": [
        "機械学習における\"学習\"とは、**損失関数を最小にすること**\n",
        "\n",
        "損失関数には大きく分けて2種類ある\n",
        "- 回帰問題で利用される\n",
        "- 分類問題で利用される\n"
      ]
    },
    {
      "cell_type": "markdown",
      "metadata": {
        "id": "xl0vXacT7nSN",
        "colab_type": "text"
      },
      "source": [
        "# 回帰問題で利用される損失関数"
      ]
    },
    {
      "cell_type": "markdown",
      "metadata": {
        "id": "15BkSTZJ5l89",
        "colab_type": "text"
      },
      "source": [
        "##平均二乗誤差(Mean Squared Error)"
      ]
    },
    {
      "cell_type": "markdown",
      "metadata": {
        "id": "J491NJHpTs5K",
        "colab_type": "text"
      },
      "source": [
        " これは各ミニバッチのデータ数を$N$として、\n",
        " $$E=\\dfrac{1}{N}\\sum_{n=1}^{N}(y_n-t_n)^2$$\n",
        " \n",
        "MSEでは、二乗するため外れ値があった場合損失を大きく見積もりすぎてしまいます。"
      ]
    },
    {
      "cell_type": "markdown",
      "metadata": {
        "id": "drqD9Y1Y5l-0",
        "colab_type": "text"
      },
      "source": [
        "## 平均絶対誤差(Mean Absolute Error)"
      ]
    },
    {
      "cell_type": "markdown",
      "metadata": {
        "id": "yzvbMKAMYZQE",
        "colab_type": "text"
      },
      "source": [
        " $$E=\\dfrac{1}{N}\\sum_{n=1}^{N}|y_n-t_n|$$\n",
        "\n",
        " MAEの場合二乗しない分、外れ値に対して寛容であり損失が大きくならないという特徴があります。また、微分が常に一定なので、学習のスピードが初期の場合ゆっくり過ぎるし、後半は遅すぎるということであまり勾配降下法には向いていません。\n",
        "\n",
        " ただし、その他の機械学習においてデータが中央値よりであることを活かしたい、外れ値にも重要な意味がある場合はMAEを選ぶ場合もあります。"
      ]
    },
    {
      "cell_type": "markdown",
      "metadata": {
        "id": "COCT2W4t5mKI",
        "colab_type": "text"
      },
      "source": [
        "## 平均絶対誤差率(Mean_absolute_percentage_error)"
      ]
    },
    {
      "cell_type": "markdown",
      "metadata": {
        "id": "WTHjjfhd5mPg",
        "colab_type": "text"
      },
      "source": [
        "## 対数平均二乗誤差(Mean_squared_logarithmic_error)"
      ]
    },
    {
      "cell_type": "markdown",
      "metadata": {
        "id": "_-bCaj5l5mH4",
        "colab_type": "text"
      },
      "source": [
        "## ヒンジ損失の二乗の和（squared_hinge）"
      ]
    },
    {
      "cell_type": "markdown",
      "metadata": {
        "id": "pg_IjJHQ5mGN",
        "colab_type": "text"
      },
      "source": [
        "## ヒンジ損失の和（hinge）"
      ]
    },
    {
      "cell_type": "markdown",
      "metadata": {
        "id": "HmiNbocy5mDe",
        "colab_type": "text"
      },
      "source": [
        "## 2クラス分類時の交差エントロピー（binary_crossentropy）"
      ]
    },
    {
      "cell_type": "markdown",
      "metadata": {
        "id": "qHV175quT2GS",
        "colab_type": "text"
      },
      "source": [
        "\n",
        "$$E=-\\dfrac{1}{N}\\sum_{n=1}^N \\left[t_n \\log y_n + (1-t_n) \\log (1-y_n) \\right]$$\n",
        "\n"
      ]
    },
    {
      "cell_type": "markdown",
      "metadata": {
        "id": "s1iytn7RiigL",
        "colab_type": "text"
      },
      "source": [
        "目的変数 $t_n$は0か1が与えられ、予測値$y_n$は二値分類の場合は多くの場合にシグモイド関数が施されるため0と1の間で値を取ります。\n",
        "\n"
      ]
    },
    {
      "cell_type": "markdown",
      "metadata": {
        "id": "H7oiSHM25mB5",
        "colab_type": "text"
      },
      "source": [
        "## Nクラス分類時の交差エントロピー（categorical_crossentropy）"
      ]
    },
    {
      "cell_type": "markdown",
      "metadata": {
        "id": "nZ8raP49T7fA",
        "colab_type": "text"
      },
      "source": [
        "多クラス分類（Kクラス）の場合は多クラス交差エントロピーとして\n",
        "\n",
        "$$E=-\\dfrac{1}{N}\\sum_{n=1}^N \\sum_{k=1}^K t_{nk} \\ln y_{nk}$$"
      ]
    },
    {
      "cell_type": "markdown",
      "metadata": {
        "id": "UnEnrE4uf1NX",
        "colab_type": "text"
      },
      "source": [
        ""
      ]
    },
    {
      "cell_type": "markdown",
      "metadata": {
        "id": "7r76NMDwPOGC",
        "colab_type": "text"
      },
      "source": [
        "## スパースなNクラス分類交差エントロピー（sparse_categorical_crossentropy）"
      ]
    },
    {
      "cell_type": "markdown",
      "metadata": {
        "id": "wsf4ivbCPOwg",
        "colab_type": "text"
      },
      "source": [
        "## KLダイバージェンス（kld）"
      ]
    },
    {
      "cell_type": "markdown",
      "metadata": {
        "id": "76k4jDRyPPQM",
        "colab_type": "text"
      },
      "source": [
        "## poisson"
      ]
    },
    {
      "cell_type": "markdown",
      "metadata": {
        "id": "H29juRliPPOU",
        "colab_type": "text"
      },
      "source": [
        "## コサイン類似度を負にしたもの（cosine_proximity）\n"
      ]
    },
    {
      "cell_type": "markdown",
      "metadata": {
        "id": "mzPk0rgHPPJa",
        "colab_type": "text"
      },
      "source": [
        ""
      ]
    }
  ]
}